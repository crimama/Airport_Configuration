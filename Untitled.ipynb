{
 "cells": [
  {
   "cell_type": "code",
   "execution_count": 1,
   "id": "43496145",
   "metadata": {},
   "outputs": [],
   "source": [
    "import pandas as pd \n",
    "import numpy as np \n",
    "import matplotlib.pyplot as plt \n",
    "from tqdm import tqdm \n",
    "from glob import glob \n",
    "import os "
   ]
  },
  {
   "cell_type": "code",
   "execution_count": 2,
   "id": "702ed09f",
   "metadata": {},
   "outputs": [],
   "source": [
    "csvs_dir = glob('/python/train_features/katl/*.csv')"
   ]
  },
  {
   "cell_type": "code",
   "execution_count": 3,
   "id": "2142f9a6",
   "metadata": {},
   "outputs": [
    {
     "data": {
      "text/plain": [
       "['/python/train_features/katl\\\\katl_airport_config.csv',\n",
       " '/python/train_features/katl\\\\katl_arrival_runway.csv',\n",
       " '/python/train_features/katl\\\\katl_departure_runway.csv',\n",
       " '/python/train_features/katl\\\\katl_etd.csv',\n",
       " '/python/train_features/katl\\\\katl_first_position.csv',\n",
       " '/python/train_features/katl\\\\katl_lamp.csv',\n",
       " '/python/train_features/katl\\\\katl_mfs_runway_arrival_time.csv',\n",
       " '/python/train_features/katl\\\\katl_mfs_runway_departure_time.csv',\n",
       " '/python/train_features/katl\\\\katl_mfs_stand_arrival_time.csv',\n",
       " '/python/train_features/katl\\\\katl_mfs_stand_departure_time.csv',\n",
       " '/python/train_features/katl\\\\katl_tbfm_scheduled_runway_arrival_time.csv',\n",
       " '/python/train_features/katl\\\\katl_tfm_estimated_runway_arrival_time.csv']"
      ]
     },
     "execution_count": 3,
     "metadata": {},
     "output_type": "execute_result"
    }
   ],
   "source": [
    "csvs_dir"
   ]
  },
  {
   "cell_type": "code",
   "execution_count": 4,
   "id": "bd23c031",
   "metadata": {},
   "outputs": [],
   "source": [
    "airport_config = pd.read_csv(csvs_dir[0])\n",
    "first_position = pd.read_csv(csvs_dir[4])\n",
    "lamp = pd.read_csv(csvs_dir[5])\n",
    "\n",
    "estimated_runway_arrival_time = pd.read_csv(csvs_dir[11])\n",
    "scheduled_runway_arrival_time = pd.read_csv(csvs_dir[10])\n",
    "arrival_runway = pd.read_csv(csvs_dir[1])\n",
    "runway_arrival_time = pd.read_csv(csvs_dir[6])\n",
    "stand_arrival_time = pd.read_csv(csvs_dir[8])\n",
    "\n",
    "departure_runway = pd.read_csv(csvs_dir[2])\n",
    "estimated_runway_departure_time = pd.read_csv(csvs_dir[3])\n",
    "runway_departure_time = pd.read_csv(csvs_dir[7])\n",
    "stand_departure_time = pd.read_csv(csvs_dir[9])"
   ]
  },
  {
   "cell_type": "code",
   "execution_count": 52,
   "id": "aa2bde07",
   "metadata": {},
   "outputs": [
    {
     "name": "stdout",
     "output_type": "stream",
     "text": [
      "추정시간 : 2020-12-31T21:51:00\n",
      "계획시간 : 2020-12-31T22:13:00\n",
      "활주로 도달 시간 : 2020-12-31T21:51:00\n",
      "착륙시간 : 2020-12-31T21:51:19\n",
      "게이트도착시간:2020-12-31T22:13:00\n"
     ]
    }
   ],
   "source": [
    "arr_gufi = stand_arrival_time['gufi'][3]\n",
    "erat = estimated_runway_arrival_time.loc[estimated_runway_arrival_time['gufi']==arr_gufi,'estimated_runway_arrival_time'].iloc[-1]\n",
    "sart = scheduled_runway_arrival_time.loc[scheduled_runway_arrival_time['gufi']==arr_gufi,'scheduled_runway_arrival_time'].iloc[-1]\n",
    "ar = arrival_runway.loc[arrival_runway['gufi']==arr_gufi,'timestamp'].iloc[-1]\n",
    "rat = runway_arrival_time.loc[runway_arrival_time['gufi']==arr_gufi,'timestamp'].iloc[-1]\n",
    "sart = stand_arrival_time.loc[stand_arrival_time['gufi']==arr_gufi,'timestamp'].iloc[-1]\n",
    "print(f'추정시간 : {erat}')\n",
    "print(f'계획시간 : {sart}')\n",
    "print(f'활주로 도달 시간 : {rat}')\n",
    "print(f'착륙시간 : {ar}')\n",
    "print(f'게이트도착시간:{sart}')"
   ]
  },
  {
   "cell_type": "code",
   "execution_count": 64,
   "id": "7355b488",
   "metadata": {},
   "outputs": [],
   "source": [
    "arr_gufi = estimated_runway_departure_time['gufi'][0]"
   ]
  },
  {
   "cell_type": "code",
   "execution_count": 82,
   "id": "c3a21eac",
   "metadata": {},
   "outputs": [
    {
     "name": "stdout",
     "output_type": "stream",
     "text": [
      "이륙 추정 시간 : 2020-11-01 00:01:00\n",
      "활주로 도달 시간 : 2020-11-01T00:01:25\n",
      "이륙시간 : 2020-11-01T00:01:00\n",
      "게이트 출발 시간:2020-10-31T23:48:00\n"
     ]
    }
   ],
   "source": [
    "arr_gufi = departure_runway['gufi'][0]\n",
    "erat = estimated_runway_departure_time.loc[estimated_runway_departure_time['gufi']==arr_gufi,'estimated_runway_departure_time'].iloc[-1]\n",
    "ar = departure_runway.loc[departure_runway['gufi']==arr_gufi,'timestamp'].iloc[-1]\n",
    "rat = runway_departure_time.loc[runway_departure_time['gufi']==arr_gufi,'timestamp'].iloc[-1]\n",
    "sart = stand_departure_time.loc[stand_departure_time['gufi']==arr_gufi,'timestamp'].iloc[-1]\n",
    "print(f'이륙 추정 시간 : {erat}')\n",
    "print(f'활주로 도달 시간 : {ar}')\n",
    "print(f'이륙시간 : {rat}')\n",
    "print(f'게이트 출발 시간:{sart}')"
   ]
  },
  {
   "cell_type": "code",
   "execution_count": 78,
   "id": "f9820a31",
   "metadata": {},
   "outputs": [
    {
     "name": "stdout",
     "output_type": "stream",
     "text": [
      "688540\n",
      "7552145\n",
      "330932\n",
      "727731\n",
      "688540\n"
     ]
    }
   ],
   "source": [
    "for i in departure:\n",
    "    print(len(i))"
   ]
  }
 ],
 "metadata": {
  "kernelspec": {
   "display_name": "Python 3 (ipykernel)",
   "language": "python",
   "name": "python3"
  },
  "language_info": {
   "codemirror_mode": {
    "name": "ipython",
    "version": 3
   },
   "file_extension": ".py",
   "mimetype": "text/x-python",
   "name": "python",
   "nbconvert_exporter": "python",
   "pygments_lexer": "ipython3",
   "version": "3.9.7"
  },
  "toc": {
   "base_numbering": 1,
   "nav_menu": {},
   "number_sections": true,
   "sideBar": true,
   "skip_h1_title": false,
   "title_cell": "Table of Contents",
   "title_sidebar": "Contents",
   "toc_cell": false,
   "toc_position": {},
   "toc_section_display": true,
   "toc_window_display": false
  }
 },
 "nbformat": 4,
 "nbformat_minor": 5
}
